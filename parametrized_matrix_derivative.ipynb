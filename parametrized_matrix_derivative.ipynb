{
 "cells": [
  {
   "cell_type": "code",
   "execution_count": 1,
   "metadata": {
    "collapsed": true
   },
   "outputs": [],
   "source": [
    "from numpy import *#array, zeros, linspace, matrix, random\n",
    "from scipy.linalg import sqrtm\n",
    "from scipy.linalg import solve_sylvester\n",
    "from math import *\n",
    "#from pytriqs.lattice.tight_binding import *\n",
    "from matplotlib import pylab as plt\n",
    "%matplotlib inline\n",
    "set_printoptions(precision=5, suppress=True)\n",
    "random.seed(0)\n",
    "\n",
    "def create_hermitian_matrix(mat):\n",
    "    \"\"\"\n",
    "    function: create hermitian matrix\n",
    "    input: mat, random complex matrix\n",
    "    output: hermitian matrix\n",
    "    \"\"\"\n",
    "    return mat + conjugate(mat).T\n",
    "\n",
    "# basis for 2x2 Hermitian matrix\n",
    "idty2 = eye(2,2) # 2x2 identity\n",
    "sx = array( [ [0,1] , [1,0] ] ) # sigma_x\n",
    "sy = array( [ [0,-1j] , [1j,0] ] ) # sigma_y\n",
    "sz = array( [ [1,0] , [0,-1] ] ) # sigma_z"
   ]
  },
  {
   "cell_type": "code",
   "execution_count": 12,
   "metadata": {
    "collapsed": false
   },
   "outputs": [],
   "source": [
    "Delta = array([[0.5,0],[0,0.5]],dtype=complex)\n",
    "#print Delta\n",
    "#print idty2 - Delta\n",
    "#Delta = create_hermitian_matrix( random.rand(2,2) + 1j*random.rand(2,2) )"
   ]
  },
  {
   "cell_type": "code",
   "execution_count": 16,
   "metadata": {
    "collapsed": false
   },
   "outputs": [
    {
     "name": "stdout",
     "output_type": "stream",
     "text": [
      "[[ 0.+0.j  0.+0.j]\n",
      " [ 0.+0.j  0.+0.j]]\n"
     ]
    }
   ],
   "source": [
    "#right = sx - 2 * dot( sx , Delta )\n",
    "right = idty2 - 2 * dot( idty2 , Delta )\n",
    "print right"
   ]
  },
  {
   "cell_type": "code",
   "execution_count": 17,
   "metadata": {
    "collapsed": false
   },
   "outputs": [
    {
     "name": "stdout",
     "output_type": "stream",
     "text": [
      "[[ 0.25+0.j  0.00+0.j]\n",
      " [ 0.00+0.j  0.25+0.j]]\n",
      "[[ 0.5+0.j  0.0+0.j]\n",
      " [ 0.0+0.j  0.5+0.j]]\n"
     ]
    }
   ],
   "source": [
    "A = dot( Delta, idty2 - Delta )\n",
    "Asqrt = sqrtm(A)\n",
    "print A\n",
    "print Asqrt"
   ]
  },
  {
   "cell_type": "markdown",
   "metadata": {},
   "source": [
    "## solve for S: Asqrt.S + S.Asqrt = right (Sylvester equation A.X+X.B=C)"
   ]
  },
  {
   "cell_type": "code",
   "execution_count": 18,
   "metadata": {
    "collapsed": true
   },
   "outputs": [],
   "source": [
    "S = solve_sylvester(Asqrt,Asqrt,right)"
   ]
  },
  {
   "cell_type": "code",
   "execution_count": 19,
   "metadata": {
    "collapsed": false
   },
   "outputs": [
    {
     "name": "stdout",
     "output_type": "stream",
     "text": [
      "[[ 0.+0.j  0.+0.j]\n",
      " [ 0.+0.j  0.+0.j]]\n"
     ]
    }
   ],
   "source": [
    "print S"
   ]
  },
  {
   "cell_type": "code",
   "execution_count": 20,
   "metadata": {
    "collapsed": false
   },
   "outputs": [
    {
     "name": "stdout",
     "output_type": "stream",
     "text": [
      "[[ 0.+0.j  0.+0.j]\n",
      " [ 0.+0.j  0.+0.j]]\n",
      "[[ 0.+0.j  0.+0.j]\n",
      " [ 0.+0.j  0.+0.j]]\n"
     ]
    }
   ],
   "source": [
    "print right\n",
    "print dot(Asqrt, S) + dot(S, Asqrt)"
   ]
  },
  {
   "cell_type": "code",
   "execution_count": null,
   "metadata": {
    "collapsed": true
   },
   "outputs": [],
   "source": []
  }
 ],
 "metadata": {
  "kernelspec": {
   "display_name": "Python 2",
   "language": "python",
   "name": "python2"
  },
  "language_info": {
   "codemirror_mode": {
    "name": "ipython",
    "version": 2
   },
   "file_extension": ".py",
   "mimetype": "text/x-python",
   "name": "python",
   "nbconvert_exporter": "python",
   "pygments_lexer": "ipython2",
   "version": "2.7.10"
  }
 },
 "nbformat": 4,
 "nbformat_minor": 0
}
