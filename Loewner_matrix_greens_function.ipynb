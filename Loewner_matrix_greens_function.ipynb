{
 "cells": [
  {
   "cell_type": "markdown",
   "metadata": {},
   "source": [
    "# Example for calculating matrix Green's function derivative using Loewner theorem\n",
    "Tsung-Han Lee"
   ]
  },
  {
   "cell_type": "code",
   "execution_count": 1,
   "metadata": {
    "collapsed": false
   },
   "outputs": [],
   "source": [
    "\"\"\"\n",
    "Test for Loewner matrix of a Green's function type, here I is identity matrix and A is an off-diagonal matrix\n",
    "G = [wI+A]^(-1)\n",
    "\"\"\"\n",
    "import sys\n",
    "import os\n",
    "import numpy as np\n",
    "from scipy.linalg import sqrtm, inv, block_diag, eigh\n",
    "from scipy.optimize import brentq, bisect, newton\n",
    "from math import *\n",
    "from sympy import *\n",
    "np.set_printoptions(precision=4, suppress=True)"
   ]
  },
  {
   "cell_type": "markdown",
   "metadata": {},
   "source": [
    "Here we choose a simple form of matrix Green's function\n",
    "$$G(\\omega) = \\frac{1}{\\omega I + A}$$,\n",
    "where\n",
    "$$A=\\begin{bmatrix} 0 & a \\\\ a & 0  \\\\ \\end{bmatrix}, $$\n",
    "and \n",
    "$$I=\\begin{bmatrix} 1 & 0 \\\\ 0 & 1  \\\\ \\end{bmatrix}. $$\n",
    "\n",
    "We can analytically calculate the inversion by Cramer's rule\n",
    "$$G(\\omega) = \\frac{\\begin{bmatrix} \\omega & -a \\\\ -a & \\omega  \\\\ \\end{bmatrix}}{\\omega^2 - a^2}$$\n",
    "Therefore, the object we want to calculate can be analytical calculated, which is\n",
    "$$\\frac{d\\frac{1}{G(\\omega)_{0,0}}}{d\\omega}|_{\\omega=\\omega^*}=\\frac{\\omega^{*2}+a^2}{\\omega^{*2}}$$"
   ]
  },
  {
   "cell_type": "code",
   "execution_count": 30,
   "metadata": {
    "collapsed": false
   },
   "outputs": [
    {
     "name": "stdout",
     "output_type": "stream",
     "text": [
      "analytic derivative= 401.0\n"
     ]
    }
   ],
   "source": [
    "\"\"\"\n",
    "Analytic solution\n",
    "Ginv = [[w,a],[a,w]]\n",
    "G = [[w, -a],[-a, w]]/(w**2 -a**2)\n",
    "d(1/G[0,0])/dw = (w**2+a**2)/w**2, diverge at w->0.\n",
    "here we evaluate derivative at w=ws and ws=1, a=2. \n",
    "\"\"\"\n",
    "ws=0.1; a=2.\n",
    "test = inv(np.array([[ws,a],[a,ws]]))\n",
    "assert np.allclose(test, np.array([[ws,-a],[-a,ws]])/(ws**2-a**2))\n",
    "#Since it diverge we can evaluate it at the other position ws.\n",
    "print \"analytic derivative=\",(ws**2+a**2)/ws**2"
   ]
  },
  {
   "cell_type": "markdown",
   "metadata": {},
   "source": [
    "In order to use the Loewner matrix theorem,\n",
    "$$Df(A)(H)=\\frac{d}{dt}(A+tH)|_{t=0}=f^{[1]}(A) \\circ H.$$\n",
    "We need to shift the $\\omega$ to $\\omega^*$.\n",
    "Therefore, the matrix Green's function become\n",
    "$$G(\\omega) = \\frac{1}{(\\omega - \\omega^* )I + A },$$\n",
    "now, $A=\\begin{bmatrix} \\omega^* & a \\\\ a & \\omega^*  \\\\ \\end{bmatrix}$.\n",
    "\n",
    "We want to calculate the derivative\n",
    "$$\\frac{d\\frac{1}{G(\\omega)_{0,0}}}{d\\omega}|_{\\omega=\\omega^*}=\\frac{d}{d(\\omega-\\omega^*)}\n",
    "\\frac{1}{([(\\omega - \\omega^* )I + A ]^{-1})_{0,0}}|_{\\omega-\\omega^*=0} \\\\\n",
    "=\\frac{-1}{G(\\omega^*)^2_{0,0}}[\\frac{d}{d(\\omega-\\omega^*)}[(\\omega-\\omega^*)I+A]^{-1}|_{\\omega-\\omega^*=0}]_{0,0}$$\n",
    "\n",
    "\n",
    "We, then, can use the Loewner theorem to evaluate the derivative at $\\omega-\\omega^*=0$ by letting $H=I$ and $\\omega-\\omega^*=t$. The calculation of Loewner matrix, $f^{[1]}(A)$, and the Schur product, $f^{[1]}(A) \\circ H$, should be evaluate at the basis diagonalizing $A$, then transform back to the original basis. The Loewner matrix can be found in the book, \"Positive Definite Matrices\" p.165 by Bhatia."
   ]
  },
  {
   "cell_type": "code",
   "execution_count": 32,
   "metadata": {
    "collapsed": false
   },
   "outputs": [
    {
     "name": "stdout",
     "output_type": "stream",
     "text": [
      "Loewner theorem derivative= 401.0\n",
      "analytic derivative= 401.0\n"
     ]
    }
   ],
   "source": [
    "\"\"\"\n",
    "Calculate the derivative at ws using Loewner matrix, we need to shift wp=w-ws, since\n",
    "Loewner matrix needs to be evaluate at wp=0. Here we set  a=2. Now we have \n",
    "Ginv = (wp*I + [[ws,a],[a,ws]])\n",
    "\"\"\"\n",
    "#ws = 3.; a=2. # evaluate derivative at ws\n",
    "H = np.eye(2,2)\n",
    "A = np.array([[ws,a],[a,ws]])\n",
    "onebyg00sqr = 1./(inv(A)[0,0])**2 #1/G(ws)_{0,0}^2\n",
    "evals, evecs = eigh(A)\n",
    "Hbar = np.dot(np.conj(evecs).T, np.dot( H, evecs) ) #transform H to A's basis\n",
    "#print Hbar\n",
    "\n",
    "#create Loewner matrix in A's basis\n",
    "loewm = np.zeros(evecs.shape)\n",
    "for i in range(loewm.shape[0]):\n",
    "    for j in range(loewm.shape[1]):\n",
    "        if i==j:\n",
    "            #print -1./(evals[i])**2\n",
    "            loewm[i,i] = -1./(evals[i])**2\n",
    "        if i!=j:\n",
    "            #print ( (1./evals[i]) - (1./evals[j]) )/(evals[i]-evals[j])\n",
    "            loewm[i,j]= ( (1./evals[i]) - (1./evals[j]) )/(evals[i]-evals[j])\n",
    "\n",
    "#Perform the Schur product in A's basis then transform back to original basis.\n",
    "deriv = -1.*onebyg00sqr*np.dot(evecs, np.dot( loewm*Hbar, np.conj(evecs).T ) )[0,0]\n",
    "print \"Loewner theorem derivative=\",deriv\n",
    "print \"analytic derivative=\",(ws**2+a**2)/ws**2"
   ]
  },
  {
   "cell_type": "code",
   "execution_count": null,
   "metadata": {
    "collapsed": true
   },
   "outputs": [],
   "source": []
  }
 ],
 "metadata": {
  "kernelspec": {
   "display_name": "Python 2",
   "language": "python",
   "name": "python2"
  },
  "language_info": {
   "codemirror_mode": {
    "name": "ipython",
    "version": 2
   },
   "file_extension": ".py",
   "mimetype": "text/x-python",
   "name": "python",
   "nbconvert_exporter": "python",
   "pygments_lexer": "ipython2",
   "version": "2.7.10"
  }
 },
 "nbformat": 4,
 "nbformat_minor": 0
}
