{
 "cells": [
  {
   "cell_type": "code",
   "execution_count": 2,
   "metadata": {
    "collapsed": true
   },
   "outputs": [],
   "source": [
    "from numpy import *\n",
    "from scipy import *"
   ]
  },
  {
   "cell_type": "code",
   "execution_count": 14,
   "metadata": {
    "collapsed": false
   },
   "outputs": [
    {
     "name": "stdout",
     "output_type": "stream",
     "text": [
      "[[ 1.  0.]\n",
      " [ 0.  1.]]\n"
     ]
    }
   ],
   "source": [
    "idty = eye(2,2)\n",
    "sx = array( [ [0,1] , [1,0] ] )\n",
    "sy = array( [ [0,-1j] , [1j,0] ] )\n",
    "sz = array( [ [1,0] , [0,-1] ] )\n",
    "#print idty"
   ]
  },
  {
   "cell_type": "code",
   "execution_count": 24,
   "metadata": {
    "collapsed": false
   },
   "outputs": [
    {
     "name": "stdout",
     "output_type": "stream",
     "text": [
      "[[ 0.99480131+0.j          0.58694176+0.13937543j]\n",
      " [ 0.58694176-0.13937543j  0.44971718+0.j        ]]\n"
     ]
    }
   ],
   "source": [
    "# Hermitian matrix\n",
    "c = random.rand(2,2) + 1j*random.rand(2,2)\n",
    "h = ( c + conj(c).T ) / 2\n",
    "#a = ( c - conj(c).T ) / 2\n",
    "print h\n",
    "#print a"
   ]
  },
  {
   "cell_type": "code",
   "execution_count": 23,
   "metadata": {
    "collapsed": false
   },
   "outputs": [
    {
     "name": "stdout",
     "output_type": "stream",
     "text": [
      "(0.530073192004+0j) *I +  (0.755975910181+0j) *sigx + (-0.215056599039+0j) *sigy + (-0.316889441458+0j) *sigz=\n",
      "[[ 0.21318375+0.j         0.75597591+0.2150566j]\n",
      " [ 0.75597591-0.2150566j  0.84696263+0.j       ]]\n"
     ]
    }
   ],
   "source": [
    "p0 = 0.5 * trace(h)\n",
    "px = 0.5 * trace( dot( sx, h ) ) \n",
    "py = 0.5 * trace( dot( sy, h ) ) \n",
    "pz = 0.5 * trace( dot( sz, h ) )\n",
    "print p0,\"*I + \",px,\"*sigx +\",py,\"*sigy +\",pz,\"*sigz=\"\n",
    "print p0*idty + px * sx + py * sy + pz * sz"
   ]
  },
  {
   "cell_type": "code",
   "execution_count": null,
   "metadata": {
    "collapsed": true
   },
   "outputs": [],
   "source": []
  }
 ],
 "metadata": {
  "kernelspec": {
   "display_name": "Python 2",
   "language": "python",
   "name": "python2"
  },
  "language_info": {
   "codemirror_mode": {
    "name": "ipython",
    "version": 2
   },
   "file_extension": ".py",
   "mimetype": "text/x-python",
   "name": "python",
   "nbconvert_exporter": "python",
   "pygments_lexer": "ipython2",
   "version": "2.7.10"
  }
 },
 "nbformat": 4,
 "nbformat_minor": 0
}
